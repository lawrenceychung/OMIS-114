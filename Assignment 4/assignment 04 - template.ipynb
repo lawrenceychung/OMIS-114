{
 "cells": [
  {
   "cell_type": "markdown",
   "metadata": {},
   "source": [
    "# OMIS 114 Data Science with Python\n",
    "## Assignment 4 - Data Aggregation"
   ]
  },
  {
   "cell_type": "markdown",
   "metadata": {},
   "source": [
    "#### Due February 12 at 3:50PM :: 100 Points Total - 46 Points for Camino Quiz; 54 Points for Jupyter Notebook"
   ]
  },
  {
   "cell_type": "markdown",
   "metadata": {},
   "source": [
    "**Description:**<br>The file 'cleaned survey.csv' contains the responses from a survey of graduate students enrolled in a data science course.<br>Perform an analysis of the survey responses.<br>Prepare this Jupyter notebook file to professionally present your analysis."
   ]
  },
  {
   "cell_type": "markdown",
   "metadata": {},
   "source": [
    "<ul>\n",
    "<li>Expand the notebook (insert cells) as required.</li>\n",
    "<li>To respond to the questions in this noteboook, generate a response in the cell immediately following a question.</li>\n",
    "<li>Complete the associated quiz on Camino.</li>\n",
    "<li>The points associated with the assignment questions are earned by computing and providing the correct (expected) solution values on the Camino quiz.</li>\n",
    "<li>Progress points are associated with an analysis task, and are assigned based upon an assessment of the progress made toward performing the analysis task completely and correctly and generating the correct solution values.</li>\n",
    "<li>Performing an analysis task correctly and generating the correct solution values earns complete progress points.</li>\n",
    "<li>Up to 8 progress points for notebook presentation, professionalism, and description of analysis steps (comments).</li>\n",
    "</ul>"
   ]
  },
  {
   "cell_type": "markdown",
   "metadata": {},
   "source": [
    "<ul>\n",
    "<li>Include all steps of the analysis in the submitted notebook.</li>\n",
    "<li>To earn points on a question, the notebook analysis must compute the value provided.</li>\n",
    "<li>Include a comment describing each step of the analysis.</li>\n",
    "<li>The analysis code should also function on any other similar survey data.</li>\n",
    "<li>Additional Python packages (besides those imported) may not be used in the analysis.</li>\n",
    "<li>Loops may not be used in the analysis.</li>\n",
    "<li>Complete this assignment independently, without inappropriate collaboration or assistance.</li>\n",
    "</ul>"
   ]
  },
  {
   "cell_type": "markdown",
   "metadata": {},
   "source": [
    "**Directions:**<br>Begin by downloading the <b>cleaned survey.csv</b> file and storing it in the <b>same folder as this .ipynb file.</b>"
   ]
  },
  {
   "cell_type": "markdown",
   "metadata": {},
   "source": [
    "Then, execute the following code to load the survey data in a dataframe <b>df</b>.<br>Use the dataframe <b>df</b> to answer the following questions</b>."
   ]
  },
  {
   "cell_type": "code",
   "execution_count": 1,
   "metadata": {},
   "outputs": [],
   "source": [
    "from IPython.core.interactiveshell import InteractiveShell\n",
    "InteractiveShell.ast_node_interactivity = \"all\""
   ]
  },
  {
   "cell_type": "code",
   "execution_count": 2,
   "metadata": {},
   "outputs": [],
   "source": [
    "import pandas as pd"
   ]
  },
  {
   "cell_type": "code",
   "execution_count": 3,
   "metadata": {},
   "outputs": [],
   "source": [
    "df = pd.read_csv(\"cleaned survey.csv\", index_col=0)\n",
    "df.drop(['Expert'], axis=1, inplace=True)"
   ]
  },
  {
   "cell_type": "code",
   "execution_count": 4,
   "metadata": {},
   "outputs": [],
   "source": [
    "pd.set_option('display.max_columns',None)\n",
    "pd.set_option('display.max_rows',None)"
   ]
  },
  {
   "cell_type": "code",
   "execution_count": 5,
   "metadata": {
    "scrolled": true
   },
   "outputs": [
    {
     "data": {
      "text/html": [
       "<div>\n",
       "<style scoped>\n",
       "    .dataframe tbody tr th:only-of-type {\n",
       "        vertical-align: middle;\n",
       "    }\n",
       "\n",
       "    .dataframe tbody tr th {\n",
       "        vertical-align: top;\n",
       "    }\n",
       "\n",
       "    .dataframe thead th {\n",
       "        text-align: right;\n",
       "    }\n",
       "</style>\n",
       "<table border=\"1\" class=\"dataframe\">\n",
       "  <thead>\n",
       "    <tr style=\"text-align: right;\">\n",
       "      <th></th>\n",
       "      <th>Job</th>\n",
       "      <th>Program</th>\n",
       "      <th>ProgSkills</th>\n",
       "      <th>C</th>\n",
       "      <th>CPP</th>\n",
       "      <th>CS</th>\n",
       "      <th>Java</th>\n",
       "      <th>Python</th>\n",
       "      <th>JS</th>\n",
       "      <th>R</th>\n",
       "      <th>SQL</th>\n",
       "      <th>SAS</th>\n",
       "      <th>Excel</th>\n",
       "      <th>Tableau</th>\n",
       "      <th>Regression</th>\n",
       "      <th>Classification</th>\n",
       "      <th>Clustering</th>\n",
       "      <th>Bach_0to1</th>\n",
       "      <th>Bach_1to3</th>\n",
       "      <th>Bach_3to5</th>\n",
       "      <th>Bach_5Plus</th>\n",
       "      <th>Languages</th>\n",
       "    </tr>\n",
       "  </thead>\n",
       "  <tbody>\n",
       "    <tr>\n",
       "      <th>0</th>\n",
       "      <td>0.0</td>\n",
       "      <td>MSIS</td>\n",
       "      <td>4</td>\n",
       "      <td>1</td>\n",
       "      <td>1</td>\n",
       "      <td>0.0</td>\n",
       "      <td>0</td>\n",
       "      <td>1.0</td>\n",
       "      <td>1.0</td>\n",
       "      <td>0.0</td>\n",
       "      <td>1.0</td>\n",
       "      <td>0.0</td>\n",
       "      <td>1</td>\n",
       "      <td>1</td>\n",
       "      <td>1.0</td>\n",
       "      <td>4</td>\n",
       "      <td>4</td>\n",
       "      <td>0</td>\n",
       "      <td>1</td>\n",
       "      <td>0</td>\n",
       "      <td>0</td>\n",
       "      <td>6</td>\n",
       "    </tr>\n",
       "    <tr>\n",
       "      <th>1</th>\n",
       "      <td>0.5</td>\n",
       "      <td>MSIS</td>\n",
       "      <td>3</td>\n",
       "      <td>1</td>\n",
       "      <td>1</td>\n",
       "      <td>0.0</td>\n",
       "      <td>1</td>\n",
       "      <td>0.0</td>\n",
       "      <td>0.0</td>\n",
       "      <td>0.0</td>\n",
       "      <td>1.0</td>\n",
       "      <td>0.0</td>\n",
       "      <td>1</td>\n",
       "      <td>0</td>\n",
       "      <td>0.0</td>\n",
       "      <td>2</td>\n",
       "      <td>2</td>\n",
       "      <td>0</td>\n",
       "      <td>0</td>\n",
       "      <td>0</td>\n",
       "      <td>1</td>\n",
       "      <td>4</td>\n",
       "    </tr>\n",
       "    <tr>\n",
       "      <th>2</th>\n",
       "      <td>0.0</td>\n",
       "      <td>MSIS</td>\n",
       "      <td>3</td>\n",
       "      <td>0</td>\n",
       "      <td>0</td>\n",
       "      <td>0.0</td>\n",
       "      <td>1</td>\n",
       "      <td>1.0</td>\n",
       "      <td>0.0</td>\n",
       "      <td>0.0</td>\n",
       "      <td>1.0</td>\n",
       "      <td>0.0</td>\n",
       "      <td>1</td>\n",
       "      <td>0</td>\n",
       "      <td>1.0</td>\n",
       "      <td>3</td>\n",
       "      <td>3</td>\n",
       "      <td>0</td>\n",
       "      <td>0</td>\n",
       "      <td>1</td>\n",
       "      <td>0</td>\n",
       "      <td>3</td>\n",
       "    </tr>\n",
       "    <tr>\n",
       "      <th>3</th>\n",
       "      <td>0.0</td>\n",
       "      <td>MSIS</td>\n",
       "      <td>3</td>\n",
       "      <td>1</td>\n",
       "      <td>0</td>\n",
       "      <td>0.0</td>\n",
       "      <td>1</td>\n",
       "      <td>1.0</td>\n",
       "      <td>0.0</td>\n",
       "      <td>1.0</td>\n",
       "      <td>1.0</td>\n",
       "      <td>0.0</td>\n",
       "      <td>1</td>\n",
       "      <td>0</td>\n",
       "      <td>1.0</td>\n",
       "      <td>2</td>\n",
       "      <td>3</td>\n",
       "      <td>0</td>\n",
       "      <td>0</td>\n",
       "      <td>0</td>\n",
       "      <td>1</td>\n",
       "      <td>5</td>\n",
       "    </tr>\n",
       "    <tr>\n",
       "      <th>4</th>\n",
       "      <td>0.0</td>\n",
       "      <td>MSIS</td>\n",
       "      <td>3</td>\n",
       "      <td>1</td>\n",
       "      <td>0</td>\n",
       "      <td>0.0</td>\n",
       "      <td>1</td>\n",
       "      <td>1.0</td>\n",
       "      <td>0.0</td>\n",
       "      <td>0.0</td>\n",
       "      <td>1.0</td>\n",
       "      <td>0.0</td>\n",
       "      <td>1</td>\n",
       "      <td>0</td>\n",
       "      <td>0.0</td>\n",
       "      <td>1</td>\n",
       "      <td>1</td>\n",
       "      <td>0</td>\n",
       "      <td>0</td>\n",
       "      <td>1</td>\n",
       "      <td>0</td>\n",
       "      <td>4</td>\n",
       "    </tr>\n",
       "  </tbody>\n",
       "</table>\n",
       "</div>"
      ],
      "text/plain": [
       "   Job Program  ProgSkills  C  CPP   CS  Java  Python   JS    R  SQL  SAS  \\\n",
       "0  0.0    MSIS           4  1    1  0.0     0     1.0  1.0  0.0  1.0  0.0   \n",
       "1  0.5    MSIS           3  1    1  0.0     1     0.0  0.0  0.0  1.0  0.0   \n",
       "2  0.0    MSIS           3  0    0  0.0     1     1.0  0.0  0.0  1.0  0.0   \n",
       "3  0.0    MSIS           3  1    0  0.0     1     1.0  0.0  1.0  1.0  0.0   \n",
       "4  0.0    MSIS           3  1    0  0.0     1     1.0  0.0  0.0  1.0  0.0   \n",
       "\n",
       "   Excel  Tableau  Regression  Classification  Clustering  Bach_0to1  \\\n",
       "0      1        1         1.0               4           4          0   \n",
       "1      1        0         0.0               2           2          0   \n",
       "2      1        0         1.0               3           3          0   \n",
       "3      1        0         1.0               2           3          0   \n",
       "4      1        0         0.0               1           1          0   \n",
       "\n",
       "   Bach_1to3  Bach_3to5  Bach_5Plus  Languages  \n",
       "0          1          0           0          6  \n",
       "1          0          0           1          4  \n",
       "2          0          1           0          3  \n",
       "3          0          0           1          5  \n",
       "4          0          1           0          4  "
      ]
     },
     "execution_count": 5,
     "metadata": {},
     "output_type": "execute_result"
    }
   ],
   "source": [
    "df.head()"
   ]
  },
  {
   "cell_type": "markdown",
   "metadata": {},
   "source": [
    "#### Data Set Description"
   ]
  },
  {
   "cell_type": "markdown",
   "metadata": {},
   "source": [
    "The data set contains one row for each student who completed the survey. All survey respondents are considered students in the data science course."
   ]
  },
  {
   "cell_type": "markdown",
   "metadata": {},
   "source": [
    "<ul>\n",
    "<li><b>Job</b>: 0 for students without a job, 0.5 for students with a part-time job, and 1 for students with a full-time job\n",
    "<li><b>Program</b>: graduate program enrolled\n",
    "<li><b>ProgSkills</b>: indicates their level of computer programming knowledge (1-5)\n",
    "<li><b>C through Regression</b>: indicates whether the student knows (1) or doesn't know (0) a specific programming language or topic\n",
    "<li><b>Classification</b>: indicates their level of knowledge (1-5) on classification methods\n",
    "<li><b>Clustering</b>: indicates their level of knowledge (1-5) on clustering methods\n",
    "<li><b>Bach_0to1</b>: 1 if the time elapsed since their Bachelor's graduation is less than a year; 0 otherwise\n",
    "<li><b>Bach_1to3</b>: 1 if the time elapsed since their Bachelor's graduation is between one and three years; 0 otherwise\n",
    "<li><b>Bach_3to5</b>: 1 if the time elapsed since their Bachelor's graduation is between three and five years; 0 otherwise\n",
    "<li><b>Bach_5Plus</b>: 1 if the time elapsed since their Bachelor's graduation is more than five years; 0 otherwise\n",
    "<li><b>Languages</b>: the number of programming languages known\n",
    "</ul>"
   ]
  },
  {
   "cell_type": "markdown",
   "metadata": {},
   "source": [
    "#### Question 1:<br><br>Aggregate students with the same level of computer programming knowledge (1-5; values stored in the 'ProgSkills' column).<br><br>For each of the 5 groups of students (1-5), compute these two statistics:<br><br>The percentage (0-100) of students within the group who know the Python and/or Java programming languages, with level of knowledge on classification methods that is greater than or equal to 2. These values are stored in the 'Python', 'Java', and 'Classification' columns, respectively. This statistic is referred to as 'PJClass%'.<br><br>The standard deviation (function std) of students' level of knowledge on clustering methods. These values are stored in the 'Clustering' column. This statistic is referred to as 'StdevClust'.<br><br>Output a data frame with one row for each level of computer programming knowledge (1-5), and the computed 'PJClass%' and 'StdevClust' statistics for that group of students.<br><br>12 points for result; plus up to 12 progress points"
   ]
  },
  {
   "cell_type": "code",
   "execution_count": 6,
   "metadata": {},
   "outputs": [
    {
     "data": {
      "text/html": [
       "<div>\n",
       "<style scoped>\n",
       "    .dataframe tbody tr th:only-of-type {\n",
       "        vertical-align: middle;\n",
       "    }\n",
       "\n",
       "    .dataframe tbody tr th {\n",
       "        vertical-align: top;\n",
       "    }\n",
       "\n",
       "    .dataframe thead th {\n",
       "        text-align: right;\n",
       "    }\n",
       "</style>\n",
       "<table border=\"1\" class=\"dataframe\">\n",
       "  <thead>\n",
       "    <tr style=\"text-align: right;\">\n",
       "      <th></th>\n",
       "      <th>PJClass%</th>\n",
       "      <th>StdevClust</th>\n",
       "    </tr>\n",
       "    <tr>\n",
       "      <th>ProgSkills</th>\n",
       "      <th></th>\n",
       "      <th></th>\n",
       "    </tr>\n",
       "  </thead>\n",
       "  <tbody>\n",
       "    <tr>\n",
       "      <th>1</th>\n",
       "      <td>0.000000</td>\n",
       "      <td>0.786796</td>\n",
       "    </tr>\n",
       "    <tr>\n",
       "      <th>2</th>\n",
       "      <td>36.363636</td>\n",
       "      <td>0.687552</td>\n",
       "    </tr>\n",
       "    <tr>\n",
       "      <th>3</th>\n",
       "      <td>65.517241</td>\n",
       "      <td>1.085053</td>\n",
       "    </tr>\n",
       "    <tr>\n",
       "      <th>4</th>\n",
       "      <td>58.333333</td>\n",
       "      <td>1.083625</td>\n",
       "    </tr>\n",
       "    <tr>\n",
       "      <th>5</th>\n",
       "      <td>50.000000</td>\n",
       "      <td>0.707107</td>\n",
       "    </tr>\n",
       "  </tbody>\n",
       "</table>\n",
       "</div>"
      ],
      "text/plain": [
       "             PJClass%  StdevClust\n",
       "ProgSkills                       \n",
       "1            0.000000    0.786796\n",
       "2           36.363636    0.687552\n",
       "3           65.517241    1.085053\n",
       "4           58.333333    1.083625\n",
       "5           50.000000    0.707107"
      ]
     },
     "execution_count": 6,
     "metadata": {},
     "output_type": "execute_result"
    }
   ],
   "source": [
    "df.loc[df['Python'] == 1.0, 'PJClass'] = 1    #creates a new column 'PJClass' and initializes student to 1 if they know Python\n",
    "df.loc[df['Java'] == 1.0, 'PJClass'] = 1      #edits 'PJClass' to 1 if student know Java\n",
    "df['PJClass'] = df['PJClass'].fillna(0)       #fills in the students who have NaN with 0 (ie don't know Python or Java)\n",
    "\n",
    "new_df = df[df['Classification'] >= 2].groupby('ProgSkills')[['PJClass']].sum()  #creates a new dataframe (new_df) with column the sum of students in each ProgSkills\n",
    "new_df['ProgSkillsCount'] = df.groupby('ProgSkills')[['ProgSkills']].count()     #creates a new colum in new_df with the count of students who know Python/Java\n",
    "\n",
    "new_df['PJClass%'] = (new_df['PJClass'] / new_df['ProgSkillsCount']) * 100       #calculates the % of students who know Python/Java for each ProgSkills\n",
    "new_df['StdevClust'] = df.groupby('ProgSkills')['Clustering'].std()              #calculates the standard deviation of the students' level of knowledge on clustering methods for each ProgSkills\n",
    "\n",
    "new_df = new_df.drop(columns=['PJClass','ProgSkillsCount'])                      #drops the 'PJClass' and 'ProgSkillsCount' columns because they were just used for calcuations\n",
    "new_df                                        #prints results"
   ]
  },
  {
   "cell_type": "markdown",
   "metadata": {},
   "source": [
    "#### Question 2:<br><br>For each graduate program, how many students have a level of computer programming knowledge that is less than 4? These values are stored in the 'ProgSkills' column.<br><br>Output a series object with one row for each graduate program, and the number of students within the graduate program meeting the specified criterion.<br><br>10 points for result; plus up to 10 progress points"
   ]
  },
  {
   "cell_type": "code",
   "execution_count": 7,
   "metadata": {},
   "outputs": [
    {
     "data": {
      "text/plain": [
       "Program\n",
       "Business Man                      1\n",
       "Faculty!                          1\n",
       "MBA                              13\n",
       "MSIS                             30\n",
       "Supply Chain Mgmt & Analytics     2\n",
       "Name: ProgSkills, dtype: int64"
      ]
     },
     "execution_count": 7,
     "metadata": {},
     "output_type": "execute_result"
    }
   ],
   "source": [
    "df[df['ProgSkills'] < 4].groupby('Program')['ProgSkills'].count()  #counts the students in each Program where ProgSkills < 4"
   ]
  },
  {
   "cell_type": "markdown",
   "metadata": {},
   "source": [
    "#### Question 3:<br><br>The 'machine learning level' of a student is defined as the largest value among their level of knowledge of classification methods and their level of knowledge of clustering methods. These values are stored in the 'Classification' and 'Clustering' columns, respectively.<br><br>Compute and output the average (function mean) 'machine learning level' among all students in the MSIS program (students with value of 'MSIS' stored in the 'Program' column).<br><br>12 points for result; plus up to 12 progress points"
   ]
  },
  {
   "cell_type": "code",
   "execution_count": 8,
   "metadata": {},
   "outputs": [
    {
     "data": {
      "text/plain": [
       "1.875"
      ]
     },
     "execution_count": 8,
     "metadata": {},
     "output_type": "execute_result"
    }
   ],
   "source": [
    "temp = df[df['Program'] == 'MSIS']    #creates temporary dataframe for only MSIS students\n",
    "avg = (temp[['Classification', 'Clustering']].max(axis = 1)).mean()    #finds the max between Classification and Clustering of each student, then calculates the average\n",
    "avg    #prints results"
   ]
  },
  {
   "cell_type": "markdown",
   "metadata": {},
   "source": [
    "#### Question 4:<br><br>Among all students with at least one year elapsed since their Bachelor's program graduation, determine which student is the 'most knowledgeable'. All survey respondents are considered students in the data science course.<br><br>The 'most knowledgeable' student has the highest level of knowledge on classification methods (value stored in the 'Classification' column). If there are multiple students with the highest level of knowledge on classification methods, to break the tie and determine the 'most knowledgeable' student, consider next whether these students know the C programming language ('C' column). In case of a further tie, consider next whether these students know the CPP programming language ('CPP' column), then consider the CS programming language ('CS' column), then consider the Java programming language ('Java' column), then consider the SAS programming language ('SAS' column).<br><br>Once the 'most knowledgeable' student has been determined, output their graduate program (value stored in the 'Program' column).<br><br>12 points for result; plus up to 12 progress points"
   ]
  },
  {
   "cell_type": "code",
   "execution_count": 9,
   "metadata": {},
   "outputs": [
    {
     "data": {
      "text/plain": [
       "16    Faculty!\n",
       "Name: Program, dtype: object"
      ]
     },
     "execution_count": 9,
     "metadata": {},
     "output_type": "execute_result"
    }
   ],
   "source": [
    "df[(df['Bach_1to3'] == 1) | (df['Bach_3to5'] == 1) | (df['Bach_5Plus'] == 1)].nlargest(1,['Classification', 'C', 'CPP', 'CS', 'Java', 'SAS'])['Program']    #finds the student with more than 1 year elapsed since graduation and the most amount of langues in the specified order"
   ]
  },
  {
   "cell_type": "code",
   "execution_count": null,
   "metadata": {},
   "outputs": [],
   "source": []
  }
 ],
 "metadata": {
  "kernelspec": {
   "display_name": "Python 3",
   "language": "python",
   "name": "python3"
  },
  "language_info": {
   "codemirror_mode": {
    "name": "ipython",
    "version": 3
   },
   "file_extension": ".py",
   "mimetype": "text/x-python",
   "name": "python",
   "nbconvert_exporter": "python",
   "pygments_lexer": "ipython3",
   "version": "3.7.6"
  }
 },
 "nbformat": 4,
 "nbformat_minor": 1
}
