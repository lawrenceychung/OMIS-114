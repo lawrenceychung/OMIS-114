{
 "cells": [
  {
   "cell_type": "markdown",
   "metadata": {},
   "source": [
    "# OMIS 114 Data Science with Python\n",
    "## Assignment 1 - Twitter Sentiment Analysis"
   ]
  },
  {
   "cell_type": "markdown",
   "metadata": {},
   "source": [
    "#### Due January 21 at 3:50PM :: 100 Points Total - 48 Points for Camino Quiz; 52 Points for Jupyter Notebook"
   ]
  },
  {
   "cell_type": "markdown",
   "metadata": {},
   "source": [
    "**Description:**<br>The files 'biden.txt' and 'trump.txt' contain two collections of tweets extracted from the Twitter API on October 1 at about 12PM PST (for one minute each).<br>To form these two collections, tweets containing the keywords 'biden' and 'trump', respectively, were requested from the API.<br>Perform a sentiment analysis of these two collections of tweets.<br>Prepare this Jupyter notebook file to professionally present your sentiment analysis."
   ]
  },
  {
   "cell_type": "markdown",
   "metadata": {},
   "source": [
    "<ul>\n",
    "<li>Expand the notebook (insert cells) as required.</li>\n",
    "<li>To respond to the questions in this noteboook, generate a response in the cell immediately following a question.</li>\n",
    "<li>Complete the associated quiz on Camino.</li>\n",
    "<li>The points associated with the assignment questions are earned by computing and providing the correct (expected) solution values on the Camino quiz.</li>\n",
    "<li>Progress points are associated with an analysis task, and are assigned based upon an assessment of the progress made toward performing the analysis task completely and correctly and generating a correct set of solution values.</li>\n",
    "<li>Performing an analysis task correctly and generating the correct set of solution values earn complete progress points.</li>\n",
    "<li>Up to 5 progress points for notebook presentation, professionalism, and description of analysis steps (comments).</li>\n",
    "</ul>"
   ]
  },
  {
   "cell_type": "markdown",
   "metadata": {},
   "source": [
    "<ul>\n",
    "<li>Include all steps of the analysis in the submitted notebook.</li>\n",
    "<li>To earn points on a question, the notebook analysis must compute the provided value.</li>\n",
    "<li>Include a comment describing each step of the analysis.</li>\n",
    "<li>The analysis code should also function on any other similar Twitter data.</li>\n",
    "<li>Complete this assignment independently, without inappropriate collaboration or assistance.</li>\n",
    "</ul>"
   ]
  },
  {
   "cell_type": "code",
   "execution_count": 77,
   "metadata": {},
   "outputs": [],
   "source": [
    "from IPython.core.interactiveshell import InteractiveShell\n",
    "InteractiveShell.ast_node_interactivity = \"all\""
   ]
  },
  {
   "cell_type": "markdown",
   "metadata": {},
   "source": [
    "**Directions:**<br>Open the two text files to read in the Twitter data.<br>Create a **list** of all words in the Biden tweets ('biden.txt'), and a **list** of all words in the Trump tweets ('trump.txt') following these directions.<br><br>Read in each line of a file, one by one.<br>Split each line into words (substrings) using spaces as delimiters.<br>Remove special characters from each word using the following replace function (or similar).<br>w = w.replace(':','').replace('?','').replace(',','').replace('.','').replace('\"','').replace('!','').replace('(','').replace(')','').replace('\\'','').replace('\\\\','').replace('/','')<br>Transform each word to lower case.<br>If a word is longer than zero characters, append it to the list of all words in the tweets.<br><br>These steps produce a list of all words in the Biden tweets (**bidenWords**), and a list of all words in the Trump tweets (**trumpWords**)."
   ]
  },
  {
   "cell_type": "markdown",
   "metadata": {},
   "source": [
    "#### Create a list of all words in the Biden tweets<br><br>Up to 5 progress points"
   ]
  },
  {
   "cell_type": "code",
   "execution_count": 78,
   "metadata": {},
   "outputs": [],
   "source": [
    "biden = open('biden.txt', 'r') #open biden.txt in read mode\n",
    "biden_list = [] #create empty list for biden words\n",
    "\n",
    "for line in biden: \n",
    "    w = line.split() #split each line in biden.txt by the spaces and save into \"w\"\n",
    "for word in w: \n",
    "    word = word.replace(':','').replace('?','').replace(',','').replace('.','').replace('\"','').replace('!','').replace('(','').replace(')','').replace(\"'\",'').replace('\\\\','').replace('//','') #replace special characters from each word\n",
    "    word = word.lower() #make each word lowercase\n",
    "    if (len(word) > 0): #checks if each work is longer than 0 characters\n",
    "        biden_list.append(word) #add its to biden_list if it is\n",
    "biden.close() #closes biden.txt\n",
    "   "
   ]
  },
  {
   "cell_type": "markdown",
   "metadata": {},
   "source": [
    "#### Create a list of all words in the Trump tweets<br><br>Up to 5 progress points"
   ]
  },
  {
   "cell_type": "code",
   "execution_count": 79,
   "metadata": {},
   "outputs": [],
   "source": [
    "trump = open('trump.txt', 'r') #open trump.txt in read mode\n",
    "trump_list = [] #create empty list for trump words\n",
    "\n",
    "for line in trump:\n",
    "    w = line.split() #split each line in trump.txt by the spaces and save into \"w\"\n",
    "for word in w:\n",
    "    word = word.replace(':','').replace('?','').replace(',','').replace('.','').replace('\"','').replace('!','').replace('(','').replace(')','').replace(\"'\",'').replace('\\\\','').replace('//','') #replace special characters from each word\n",
    "    word = word.lower() #make each word lowercase\n",
    "    if (len(word) > 0): #checks if each work is longer than 0 characters\n",
    "        trump_list.append(word) #add its to biden_list if it is\n",
    "trump.close() #closes trump.txt"
   ]
  },
  {
   "cell_type": "markdown",
   "metadata": {},
   "source": [
    "#### Question 1: How many words are in the list of all words in the Biden tweets?<br><br>3 points"
   ]
  },
  {
   "cell_type": "code",
   "execution_count": 80,
   "metadata": {},
   "outputs": [
    {
     "name": "stdout",
     "output_type": "stream",
     "text": [
      "Number of words in biden list: 46304\n"
     ]
    }
   ],
   "source": [
    "biden_counter = 0 #initialize a counter for number of words in biden_list to 0\n",
    "\n",
    "for i in biden_list: #loop through whole list\n",
    "    biden_counter += 1 #increment counter every word\n",
    "\n",
    "print ('Number of words in biden list: ' + str(biden_counter)) #print how many words are in biden_list"
   ]
  },
  {
   "cell_type": "markdown",
   "metadata": {},
   "source": [
    "#### Question 2: How many words are in the list of all words in the Trump tweets?<br><br>3 points"
   ]
  },
  {
   "cell_type": "code",
   "execution_count": 81,
   "metadata": {},
   "outputs": [
    {
     "name": "stdout",
     "output_type": "stream",
     "text": [
      "Number of words in trump list: 51570\n"
     ]
    }
   ],
   "source": [
    "trump_counter = 0 #initialize a counter for number of words in trump_list to 0\n",
    "\n",
    "for i in trump_list: #loop through whole list\n",
    "    trump_counter += 1 #increment counter every word\n",
    "\n",
    "print ('Number of words in trump list: ' + str(trump_counter)) #print how many words are in trump_list"
   ]
  },
  {
   "cell_type": "markdown",
   "metadata": {},
   "source": [
    "#### Question 3: What is the average length of a word in the list of all words in the Biden tweets?<br><br>3 points"
   ]
  },
  {
   "cell_type": "code",
   "execution_count": 82,
   "metadata": {},
   "outputs": [
    {
     "name": "stdout",
     "output_type": "stream",
     "text": [
      "Biden's Avg word length: 6.231945404284727\n"
     ]
    }
   ],
   "source": [
    "biden_char = 0 #initialize a counter for number of characters in biden_list to 0\n",
    "for word in biden_list: #loop through the whole list\n",
    "    biden_char += len(word) #sum the lenght of every word i.e. how many characters there are\n",
    "    \n",
    "print (\"Biden's Avg word length: \" + str(biden_char / biden_counter)) #print average word length"
   ]
  },
  {
   "cell_type": "markdown",
   "metadata": {},
   "source": [
    "#### Question 4: What is the average length of a word in the list of all words in the Trump tweets?<br><br>3 points"
   ]
  },
  {
   "cell_type": "code",
   "execution_count": 83,
   "metadata": {},
   "outputs": [
    {
     "name": "stdout",
     "output_type": "stream",
     "text": [
      "Trump's Avg word lenght: 6.507911576497964\n"
     ]
    }
   ],
   "source": [
    "trump_char = 0 #initialize a counter for the number of characters in trump_list to 0\n",
    "for word in trump_list: #loop through the whole list\n",
    "    trump_char += len(word) #sum the lenght of every word i.e how many characters there are\n",
    "    \n",
    "print (\"Trump's Avg word lenght: \" + str(trump_char / trump_counter)) #prints avereage word lenght"
   ]
  },
  {
   "cell_type": "markdown",
   "metadata": {},
   "source": [
    "**Directions:**<br>To perform a sentiment analysis of these two collections of tweets, three lexicons are provided: a list of positive words (words likely to be used to express a positive opinion, sentiment, or meaning; positive.txt), a list of negative words (words likely to be used to express a negative opinion, sentiment, or meaning; negative.txt), and a list of stop-words (function words that convey little meaning, often disregarded when performing sentiment analysis; stopwords.txt).<br><br>Open the text files and read in the three lexicons (positive, negative, and stop-words).<br>Create either a dictionary or a list to store the words in each of the three lexicons, for a total of three dictionaries (or lists).<br><br>In this sentiment analysis, each word in the list of all words in the (Biden or Trump) tweets will be checked to determine if it is a positive word (found in the positive lexicon), a negative word (found in the negative lexicon), or a stop word (found in the stop-word lexicon).<br>This requires checking for the presence of a word in each of the three lexicons numerous times.<br>Utilizing a dictionary (instead of a list) to store a lexicon in these applications is more efficient, since it applies a hash lookup rather than iterating through a list.<br>A dictionary hash lookup will be performed much more quickly than checking an entire list.<br><br>These steps produce a dictionary (or list) of positive words (**positiveWords**), a dictionary (or list) of negative words (**negativeWords**), and a dictionary (or list) of stop-words (**stopWords**)."
   ]
  },
  {
   "cell_type": "markdown",
   "metadata": {},
   "source": [
    "#### Create a dictionary (or list) of positive words<br><br>Up to 4 progress points"
   ]
  },
  {
   "cell_type": "code",
   "execution_count": 84,
   "metadata": {},
   "outputs": [],
   "source": [
    "positive = open('positive.txt', 'r') #opens positive.txt in read mode\n",
    "\n",
    "positive_dict = {} #creates an empty dictionary\n",
    "for word in positive: # loop through every line in positive\n",
    "    word = word.rstrip('\\n') #gets rid of the endline chracter after each word\n",
    "    positive_dict[word] = True #adds each word to the dictionary\n",
    "positive.close()"
   ]
  },
  {
   "cell_type": "markdown",
   "metadata": {},
   "source": [
    "#### Create a dictionary (or list) of negative words<br><br>Up to 4 progress points"
   ]
  },
  {
   "cell_type": "code",
   "execution_count": 85,
   "metadata": {},
   "outputs": [],
   "source": [
    "negative = open('negative.txt', 'r') #opens negative.txt in read mode\n",
    "\n",
    "\n",
    "negative_dict = {} #creates an empty dictionary\n",
    "for word in negative: # loop through every line in negative\n",
    "    word = word.rstrip('\\n') #gets rid of the endline chracter after each word\n",
    "    negative_dict[word] = True #adds each word to the dictionary\n",
    "negative.close()"
   ]
  },
  {
   "cell_type": "markdown",
   "metadata": {},
   "source": [
    "#### Create a dictionary (or list) of stop-words<br><br>Up to 4 progress points"
   ]
  },
  {
   "cell_type": "code",
   "execution_count": 86,
   "metadata": {},
   "outputs": [],
   "source": [
    "stop = open('stopwords.txt', 'r') #opens stop.txt in read mode\n",
    "\n",
    "stop_dict = {} #creates an empty dictionary\n",
    "for word in stop: # loop through every line in stop\n",
    "    word = word.rstrip('\\n') #gets rid of the endline chracter after each word\n",
    "    stop_dict[word] = True #adds each word to the dictionary\n",
    "    \n",
    "stop.close()"
   ]
  },
  {
   "cell_type": "markdown",
   "metadata": {},
   "source": [
    "#### Perform sentiment analysis on Biden tweets<br><br>Up to 10 progress points"
   ]
  },
  {
   "cell_type": "markdown",
   "metadata": {},
   "source": [
    "#### Question 5: What is the count of positive words in the list of all words in the Biden tweets?<br><br>3 points"
   ]
  },
  {
   "cell_type": "code",
   "execution_count": 87,
   "metadata": {},
   "outputs": [
    {
     "name": "stdout",
     "output_type": "stream",
     "text": [
      "Positive word count in Biden's tweet: 1388\n"
     ]
    }
   ],
   "source": [
    "biden_positive = 0 #initializes a counter for positive words to 0\n",
    "\n",
    "for word in biden_list: #loops through biden_list\n",
    "    if word in positive_dict: #checks if each word in the positive dictionary\n",
    "        biden_positive += 1 #increments counter if it is\n",
    "print (\"Positive word count in Biden's tweet: \"+ str(biden_positive)) #prints how many positive words in biden's tweets"
   ]
  },
  {
   "cell_type": "markdown",
   "metadata": {},
   "source": [
    "#### Question 6: What is the count of negative words in the list of all words in the Biden tweets?<br><br>3 points"
   ]
  },
  {
   "cell_type": "code",
   "execution_count": 88,
   "metadata": {},
   "outputs": [
    {
     "name": "stdout",
     "output_type": "stream",
     "text": [
      "Negative word count in Biden's tweet: 1530\n"
     ]
    }
   ],
   "source": [
    "biden_negative = 0 #initializes a counter for neagtive words to 0\n",
    "\n",
    "for word in biden_list: #loops through biden_list\n",
    "    if word in negative_dict: #checks if each word in the negative dictionary\n",
    "        biden_negative += 1 #increments counter if it is\n",
    "print (\"Negative word count in Biden's tweet: \"+ str(biden_negative)) #prints how many negative words in biden's tweets"
   ]
  },
  {
   "cell_type": "markdown",
   "metadata": {},
   "source": [
    "#### Question 7: What is the count of stop-words in the list of all words in the Biden tweets?<br><br>3 points"
   ]
  },
  {
   "cell_type": "code",
   "execution_count": 89,
   "metadata": {},
   "outputs": [
    {
     "name": "stdout",
     "output_type": "stream",
     "text": [
      "Stop word count in Biden's tweet: 17032\n"
     ]
    }
   ],
   "source": [
    "biden_stop = 0 #initializes a counter for stop words to 0\n",
    "\n",
    "for word in biden_list:  #loops through biden_list\n",
    "    if word in stop_dict: #checks if each word in the stop dictionary\n",
    "        biden_stop += 1 #increments counter if it is\n",
    "print (\"Stop word count in Biden's tweet: \"+ str(biden_stop)) #prints how many stop words in biden's tweets"
   ]
  },
  {
   "cell_type": "markdown",
   "metadata": {},
   "source": [
    "#### Question 8: What is the Biden positivity ratio (count of positive words / total number of words in the Biden tweets)?<br><br>3 points"
   ]
  },
  {
   "cell_type": "code",
   "execution_count": 90,
   "metadata": {},
   "outputs": [
    {
     "name": "stdout",
     "output_type": "stream",
     "text": [
      "Biden's positivity ratio: 0.02997581202487906\n"
     ]
    }
   ],
   "source": [
    "print (\"Biden's positivity ratio: \" + str(biden_positive / biden_counter)) #calculates and prints Biden's positivity ratio"
   ]
  },
  {
   "cell_type": "markdown",
   "metadata": {},
   "source": [
    "#### Question 9: What is the Biden negativity ratio (count of negative words / total number of words in the Biden tweets)?<br><br>3 points"
   ]
  },
  {
   "cell_type": "code",
   "execution_count": 91,
   "metadata": {},
   "outputs": [
    {
     "name": "stdout",
     "output_type": "stream",
     "text": [
      "Biden's negativity ratio: 0.03304250172771251\n"
     ]
    }
   ],
   "source": [
    "print (\"Biden's negativity ratio: \" + str(biden_negative / biden_counter)) #calculates and prints Biden's negativity ratio"
   ]
  },
  {
   "cell_type": "markdown",
   "metadata": {},
   "source": [
    "#### Question 10: What is the Biden positive / negative ratio (count of positive words / count of negative words)?<br><br>3 points"
   ]
  },
  {
   "cell_type": "code",
   "execution_count": 92,
   "metadata": {},
   "outputs": [
    {
     "name": "stdout",
     "output_type": "stream",
     "text": [
      "Biden's positive to negative ratio: 0.9071895424836601\n"
     ]
    }
   ],
   "source": [
    "print (\"Biden's positive to negative ratio: \" + str(biden_positive / biden_negative)) #calculates and prints Biden's positive to negative ratio"
   ]
  },
  {
   "cell_type": "markdown",
   "metadata": {},
   "source": [
    "#### Perform sentiment analysis on Trump tweets<br><br>Up to 10 progress points"
   ]
  },
  {
   "cell_type": "markdown",
   "metadata": {},
   "source": [
    "#### Question 11: What is the count of positive words in the list of all words in the Trump tweets?<br><br>3 points"
   ]
  },
  {
   "cell_type": "code",
   "execution_count": 93,
   "metadata": {},
   "outputs": [
    {
     "name": "stdout",
     "output_type": "stream",
     "text": [
      "Positive word count in Trump's tweet: 1340\n"
     ]
    }
   ],
   "source": [
    "trump_positive = 0 #initializes a counter for positive words to 0\n",
    "\n",
    "for word in trump_list: #loops through trump_list\n",
    "    if word in positive_dict: #checks if each word in the positive dictionary\n",
    "        trump_positive += 1 #increments counter if it is\n",
    "print (\"Positive word count in Trump's tweet: \"+ str(trump_positive)) #prints how many positive words in trump's tweets"
   ]
  },
  {
   "cell_type": "markdown",
   "metadata": {},
   "source": [
    "#### Question 12: What is the count of negative words in the list of all words in the Trump tweets?<br><br>3 points"
   ]
  },
  {
   "cell_type": "code",
   "execution_count": 94,
   "metadata": {},
   "outputs": [
    {
     "name": "stdout",
     "output_type": "stream",
     "text": [
      "Negative word count in Trump's tweet: 1882\n"
     ]
    }
   ],
   "source": [
    "trump_negative = 0 #initializes a counter for neagtive words to 0\n",
    "\n",
    "for word in trump_list: #loops through trump_list\n",
    "    if word in negative_dict: #checks if each word in the negative dictionary\n",
    "        trump_negative += 1 #increments counter if it is\n",
    "print (\"Negative word count in Trump's tweet: \"+ str(trump_negative)) #prints how many negative words in trump's tweets        "
   ]
  },
  {
   "cell_type": "markdown",
   "metadata": {},
   "source": [
    "#### Question 13: What is the count of stop-words in the list of all words in the Trump tweets?<br><br>3 points"
   ]
  },
  {
   "cell_type": "code",
   "execution_count": 95,
   "metadata": {},
   "outputs": [
    {
     "name": "stdout",
     "output_type": "stream",
     "text": [
      "Stop word count in Trump's tweet: 19712\n"
     ]
    }
   ],
   "source": [
    "trump_stop = 0 #initializes a counter for stop words to 0\n",
    "\n",
    "for word in trump_list: #loops through trump_list\n",
    "    if word in stop_dict: #checks if each word in the stop dictionary\n",
    "        trump_stop += 1 #increments counter if it is\n",
    "print (\"Stop word count in Trump's tweet: \"+ str(trump_stop)) #prints how many stop words in trump's tweets                "
   ]
  },
  {
   "cell_type": "markdown",
   "metadata": {},
   "source": [
    "#### Question 14: What is the Trump positivity ratio (count of positive words / total number of words in the Trump tweets)?<br><br>3 points"
   ]
  },
  {
   "cell_type": "code",
   "execution_count": 96,
   "metadata": {},
   "outputs": [
    {
     "name": "stdout",
     "output_type": "stream",
     "text": [
      "Trump's positivity ratio: 0.0259840992825286\n"
     ]
    }
   ],
   "source": [
    "print (\"Trump's positivity ratio: \" + str(trump_positive / trump_counter)) #calculates and prints Trump's positivity ratio"
   ]
  },
  {
   "cell_type": "markdown",
   "metadata": {},
   "source": [
    "#### Question 15: What is the Trump negativity ratio (count of negative words / total number of words in the Trump tweets)?<br><br>3 points"
   ]
  },
  {
   "cell_type": "code",
   "execution_count": 97,
   "metadata": {},
   "outputs": [
    {
     "name": "stdout",
     "output_type": "stream",
     "text": [
      "Trump's negativity ratio: 0.03649408570874539\n"
     ]
    }
   ],
   "source": [
    "print (\"Trump's negativity ratio: \" + str(trump_negative / trump_counter)) #calculates and prints Trump's negativity ratio"
   ]
  },
  {
   "cell_type": "markdown",
   "metadata": {},
   "source": [
    "#### Question 16: What is the Trump positive / negative ratio (count of positive words / count of negative words)?<br><br>3 points"
   ]
  },
  {
   "cell_type": "code",
   "execution_count": 98,
   "metadata": {},
   "outputs": [
    {
     "name": "stdout",
     "output_type": "stream",
     "text": [
      "Trump's positive to negative ratio: 0.7120085015940489\n"
     ]
    }
   ],
   "source": [
    "print (\"Trump's positive to negative ratio: \" + str(trump_positive / trump_negative)) #calculates and prints Trump's positive to negative ratio"
   ]
  },
  {
   "cell_type": "markdown",
   "metadata": {},
   "source": [
    "#### Question 17: Write a summary paragraph (3 to 5 lines) interpreting the results of this analysis, and comparing these two collections of tweets.<br><br>5 points"
   ]
  },
  {
   "cell_type": "markdown",
   "metadata": {},
   "source": [
    "Based on these results, it can be suggested that both Biden and Trump tend to tweet more negavtive words than positive words as given by the larger negativity ratios as well as the less than 1 positive to negative ratio. However, it can be seen from these results that although both Biden and Trump tweet more negative words than positive words, Biden has a significantlly higher positive to negative ratio. This would imply that while Biden still tweets more negative words than positive words, he tweets more positive words than Trump proportionally."
   ]
  }
 ],
 "metadata": {
  "kernelspec": {
   "display_name": "Python 3",
   "language": "python",
   "name": "python3"
  },
  "language_info": {
   "codemirror_mode": {
    "name": "ipython",
    "version": 3
   },
   "file_extension": ".py",
   "mimetype": "text/x-python",
   "name": "python",
   "nbconvert_exporter": "python",
   "pygments_lexer": "ipython3",
   "version": "3.7.6"
  }
 },
 "nbformat": 4,
 "nbformat_minor": 1
}
